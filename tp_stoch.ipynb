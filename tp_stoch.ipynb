{
  "nbformat": 4,
  "nbformat_minor": 0,
  "metadata": {
    "colab": {
      "name": "tp_stoch.ipynb",
      "provenance": [],
      "collapsed_sections": []
    },
    "kernelspec": {
      "name": "python3",
      "display_name": "Python 3"
    },
    "language_info": {
      "name": "python"
    }
  },
  "cells": [
    {
      "cell_type": "code",
      "execution_count": 12,
      "metadata": {
        "id": "zLRDX_UD6NCu"
      },
      "outputs": [],
      "source": [
        "#Import des bibliothèques\n",
        "import numpy as np\n",
        "import pandas as pd\n",
        "from numpy import sqrt\n",
        "import random as rand\n",
        "import matplotlib.pyplot as plt\n",
        "from math import *"
      ]
    },
    {
      "cell_type": "code",
      "source": [
        "def f(w):\n",
        "    return 418.9829*D-w.sin(np.sqrt(w)).sum()"
      ],
      "metadata": {
        "id": "AhIE1cap6bM1"
      },
      "execution_count": 13,
      "outputs": []
    },
    {
      "cell_type": "code",
      "source": [
        "#Calcul de la dérivée de la fonction f\n",
        "def grad(w):\n",
        "    return -sin(np.sqrt(w))-1/2*(np.sqrt(w))*cos(np.sqrt(w))"
      ],
      "metadata": {
        "id": "lK_rutlJ6bWT"
      },
      "execution_count": 22,
      "outputs": []
    },
    {
      "cell_type": "code",
      "source": [
        "print (-sin(np.sqrt(w))-1/2*(np.sqrt(w))*cos(np.sqrt(w)))"
      ],
      "metadata": {
        "colab": {
          "base_uri": "https://localhost:8080/"
        },
        "id": "zpO4OSfx-XlF",
        "outputId": "5054f164-d28c-4ee2-d045-a4b18207e5b6"
      },
      "execution_count": 23,
      "outputs": [
        {
          "output_type": "stream",
          "name": "stdout",
          "text": [
            "1.5033465785660205\n"
          ]
        }
      ]
    },
    {
      "cell_type": "code",
      "source": [
        ""
      ],
      "metadata": {
        "id": "1FraDZ3P77KN"
      },
      "execution_count": 14,
      "outputs": []
    },
    {
      "cell_type": "markdown",
      "source": [
        "# **sg momentum**"
      ],
      "metadata": {
        "id": "39D4r5RJDhMe"
      }
    },
    {
      "cell_type": "code",
      "source": [
        "#Application de la méthode des\n",
        "def gd_momentum(w, grad, alpha, beta=0.9, max_iter=10):\n",
        "    ws = np.zeros(1 + max_iter)\n",
        "    ws[0] = w\n",
        "    v = 0\n",
        "    for i in range(max_iter):\n",
        "        v = beta*v + (1-beta) * grad(w)\n",
        "        vc = v/(1+beta**(i+1))\n",
        "        w = w - alpha * vc\n",
        "        ws[i+1] = w\n",
        "    return ws"
      ],
      "metadata": {
        "id": "5VxYDWi56bY7"
      },
      "execution_count": 28,
      "outputs": []
    },
    {
      "cell_type": "code",
      "source": [
        "#Appel a la fonction qui calcul la la desecnte de gradient avec momentum\n",
        "w = 20\n",
        "gradient = grad(w)\n",
        "gradient_momentum = gd_momentum(w, grad, alpha= 0.02, beta=0.9, max_iter= 2000)"
      ],
      "metadata": {
        "id": "QPfXQGCx7dvF"
      },
      "execution_count": 29,
      "outputs": []
    },
    {
      "cell_type": "code",
      "source": [
        ""
      ],
      "metadata": {
        "id": "rBQG1lhm7eXt"
      },
      "execution_count": null,
      "outputs": []
    },
    {
      "cell_type": "code",
      "source": [
        "x = np.linspace(-1.2, 1.2, 100)\n",
        "y = np.linspace(-1.2, 1.2, 100)\n",
        "X, Y = np.meshgrid(x, y)\n",
        "levels = [0.1,1,2,4,9, 16, 25, 36, 49, 64, 81, 100]\n",
        "Z = x**2 + Y**2\n",
        "c = plt.contour(X, Y, Z, levels)\n",
        "pass"
      ],
      "metadata": {
        "colab": {
          "base_uri": "https://localhost:8080/",
          "height": 265
        },
        "id": "nAFgEzMJ6bbf",
        "outputId": "00b24e1f-5be9-4bd7-d00b-b73ec0cdb986"
      },
      "execution_count": 30,
      "outputs": [
        {
          "output_type": "display_data",
          "data": {
            "text/plain": [
              "<Figure size 432x288 with 1 Axes>"
            ],
            "image/png": "[encoded data removed]"
          },
          "metadata": {
            "needs_background": "light"
          }
        }
      ]
    },
    {
      "cell_type": "code",
      "source": [
        "w = np.array([20])\n",
        "Dc = -sin(np.sqrt(w))-1/2*(np.sqrt(w))*cos(np.sqrt(w))\n",
        "xs = gd_momentum(w, grad, alpha= 0.002, beta= 0.9, max_iter= 100000)\n",
        "print(xs)\n",
        "plt.plot(xs)"
      ],
      "metadata": {
        "colab": {
          "base_uri": "https://localhost:8080/",
          "height": 317
        },
        "id": "NmB80fGO6bdn",
        "outputId": "75f5e760-c84b-4ed2-fda6-040b6daaf985"
      },
      "execution_count": 33,
      "outputs": [
        {
          "output_type": "stream",
          "name": "stdout",
          "text": [
            "[20.         19.99984175 19.99952613 ...  5.2391993   5.2391993\n",
            "  5.2391993 ]\n"
          ]
        },
        {
          "output_type": "execute_result",
          "data": {
            "text/plain": [
              "[<matplotlib.lines.Line2D at 0x7f143bb28f90>]"
            ]
          },
          "metadata": {},
          "execution_count": 33
        },
        {
          "output_type": "display_data",
          "data": {
            "text/plain": [
              "<Figure size 432x288 with 1 Axes>"
            ],
            "image/png": "[encoded data removed]"
          },
          "metadata": {
            "needs_background": "light"
          }
        }
      ]
    },
    {
      "cell_type": "code",
      "source": [
        ""
      ],
      "metadata": {
        "id": "rhyH9faPC1Ae"
      },
      "execution_count": null,
      "outputs": []
    },
    {
      "cell_type": "markdown",
      "source": [
        "**adam**"
      ],
      "metadata": {
        "id": "9qbDZ_U-C3cU"
      }
    },
    {
      "cell_type": "code",
      "source": [
        "def gd2_adam(w, grad, alpha, beta1=0.9, beta2=0.999, eps=1e-8, max_iter=10):\n",
        "    w = np.zeros((1 + max_iter))\n",
        "    w [0] = w\n",
        "    m = 0\n",
        "    v = 0\n",
        "    for i in range(max_iter):\n",
        "        m = beta1*m + (1-beta1)*grad(x)\n",
        "        v = beta2*v + (1-beta2)*grad(x)**2\n",
        "        mc = m/(1+beta1**(i+1))\n",
        "        vc = v/(1+beta2**(i+1))\n",
        "        x = x - alpha * m / (eps + np.sqrt(vc))\n",
        "        xs[i+1] = x\n",
        "    return xs"
      ],
      "metadata": {
        "id": "NnVFi1DEC1DI"
      },
      "execution_count": 60,
      "outputs": []
    },
    {
      "cell_type": "code",
      "source": [
        "w = np.array([20])\n",
        "xgrad = gd2_adam(w [0], grad, alpha= 0.005, beta1=0.9 , beta2=0.999, eps=1e-8, max_iter= 10)\n",
        "print(xgrad)\n",
        "plt.plot(xgrad)"
      ],
      "metadata": {
        "colab": {
          "base_uri": "https://localhost:8080/",
          "height": 426
        },
        "id": "7WR5TrUoEKVN",
        "outputId": "1019c592-992c-47dd-dd3d-2454bced3f1d"
      },
      "execution_count": 62,
      "outputs": [
        {
          "output_type": "error",
          "ename": "ValueError",
          "evalue": "ignored",
          "traceback": [
            "\u001b[0;31m---------------------------------------------------------------------------\u001b[0m",
            "\u001b[0;31mTypeError\u001b[0m                                 Traceback (most recent call last)",
            "\u001b[0;31mTypeError\u001b[0m: only size-1 arrays can be converted to Python scalars",
            "\nThe above exception was the direct cause of the following exception:\n",
            "\u001b[0;31mValueError\u001b[0m                                Traceback (most recent call last)",
            "\u001b[0;32m<ipython-input-62-99ec68d0a8db>\u001b[0m in \u001b[0;36m<module>\u001b[0;34m()\u001b[0m\n\u001b[1;32m      1\u001b[0m \u001b[0mw\u001b[0m \u001b[0;34m=\u001b[0m \u001b[0mnp\u001b[0m\u001b[0;34m.\u001b[0m\u001b[0marray\u001b[0m\u001b[0;34m(\u001b[0m\u001b[0;34m[\u001b[0m\u001b[0;36m20\u001b[0m\u001b[0;34m]\u001b[0m\u001b[0;34m)\u001b[0m\u001b[0;34m\u001b[0m\u001b[0;34m\u001b[0m\u001b[0m\n\u001b[0;32m----> 2\u001b[0;31m \u001b[0mxgrad\u001b[0m \u001b[0;34m=\u001b[0m \u001b[0mgd2_adam\u001b[0m\u001b[0;34m(\u001b[0m\u001b[0mw\u001b[0m \u001b[0;34m[\u001b[0m\u001b[0;36m0\u001b[0m\u001b[0;34m]\u001b[0m\u001b[0;34m,\u001b[0m \u001b[0mgrad\u001b[0m\u001b[0;34m,\u001b[0m \u001b[0malpha\u001b[0m\u001b[0;34m=\u001b[0m \u001b[0;36m0.005\u001b[0m\u001b[0;34m,\u001b[0m \u001b[0mbeta1\u001b[0m\u001b[0;34m=\u001b[0m\u001b[0;36m0.9\u001b[0m \u001b[0;34m,\u001b[0m \u001b[0mbeta2\u001b[0m\u001b[0;34m=\u001b[0m\u001b[0;36m0.999\u001b[0m\u001b[0;34m,\u001b[0m \u001b[0meps\u001b[0m\u001b[0;34m=\u001b[0m\u001b[0;36m1e-8\u001b[0m\u001b[0;34m,\u001b[0m \u001b[0mmax_iter\u001b[0m\u001b[0;34m=\u001b[0m \u001b[0;36m10\u001b[0m\u001b[0;34m)\u001b[0m\u001b[0;34m\u001b[0m\u001b[0;34m\u001b[0m\u001b[0m\n\u001b[0m\u001b[1;32m      3\u001b[0m \u001b[0mprint\u001b[0m\u001b[0;34m(\u001b[0m\u001b[0mxgrad\u001b[0m\u001b[0;34m)\u001b[0m\u001b[0;34m\u001b[0m\u001b[0;34m\u001b[0m\u001b[0m\n\u001b[1;32m      4\u001b[0m \u001b[0mplt\u001b[0m\u001b[0;34m.\u001b[0m\u001b[0mplot\u001b[0m\u001b[0;34m(\u001b[0m\u001b[0mxgrad\u001b[0m\u001b[0;34m)\u001b[0m\u001b[0;34m\u001b[0m\u001b[0;34m\u001b[0m\u001b[0m\n",
            "\u001b[0;32m<ipython-input-60-c7c299350808>\u001b[0m in \u001b[0;36mgd2_adam\u001b[0;34m(w, grad, alpha, beta1, beta2, eps, max_iter)\u001b[0m\n\u001b[1;32m      1\u001b[0m \u001b[0;32mdef\u001b[0m \u001b[0mgd2_adam\u001b[0m\u001b[0;34m(\u001b[0m\u001b[0mw\u001b[0m\u001b[0;34m,\u001b[0m \u001b[0mgrad\u001b[0m\u001b[0;34m,\u001b[0m \u001b[0malpha\u001b[0m\u001b[0;34m,\u001b[0m \u001b[0mbeta1\u001b[0m\u001b[0;34m=\u001b[0m\u001b[0;36m0.9\u001b[0m\u001b[0;34m,\u001b[0m \u001b[0mbeta2\u001b[0m\u001b[0;34m=\u001b[0m\u001b[0;36m0.999\u001b[0m\u001b[0;34m,\u001b[0m \u001b[0meps\u001b[0m\u001b[0;34m=\u001b[0m\u001b[0;36m1e-8\u001b[0m\u001b[0;34m,\u001b[0m \u001b[0mmax_iter\u001b[0m\u001b[0;34m=\u001b[0m\u001b[0;36m10\u001b[0m\u001b[0;34m)\u001b[0m\u001b[0;34m:\u001b[0m\u001b[0;34m\u001b[0m\u001b[0;34m\u001b[0m\u001b[0m\n\u001b[1;32m      2\u001b[0m     \u001b[0mw\u001b[0m \u001b[0;34m=\u001b[0m \u001b[0mnp\u001b[0m\u001b[0;34m.\u001b[0m\u001b[0mzeros\u001b[0m\u001b[0;34m(\u001b[0m\u001b[0;34m(\u001b[0m\u001b[0;36m1\u001b[0m \u001b[0;34m+\u001b[0m \u001b[0mmax_iter\u001b[0m\u001b[0;34m)\u001b[0m\u001b[0;34m)\u001b[0m\u001b[0;34m\u001b[0m\u001b[0;34m\u001b[0m\u001b[0m\n\u001b[0;32m----> 3\u001b[0;31m     \u001b[0mw\u001b[0m \u001b[0;34m[\u001b[0m\u001b[0;36m0\u001b[0m\u001b[0;34m]\u001b[0m \u001b[0;34m=\u001b[0m \u001b[0mw\u001b[0m\u001b[0;34m\u001b[0m\u001b[0;34m\u001b[0m\u001b[0m\n\u001b[0m\u001b[1;32m      4\u001b[0m     \u001b[0mm\u001b[0m \u001b[0;34m=\u001b[0m \u001b[0;36m0\u001b[0m\u001b[0;34m\u001b[0m\u001b[0;34m\u001b[0m\u001b[0m\n\u001b[1;32m      5\u001b[0m     \u001b[0mv\u001b[0m \u001b[0;34m=\u001b[0m \u001b[0;36m0\u001b[0m\u001b[0;34m\u001b[0m\u001b[0;34m\u001b[0m\u001b[0m\n",
            "\u001b[0;31mValueError\u001b[0m: setting an array element with a sequence."
          ]
        }
      ]
    },
    {
      "cell_type": "code",
      "source": [
        ""
      ],
      "metadata": {
        "id": "AFiSpql7_sSO"
      },
      "execution_count": null,
      "outputs": []
    },
    {
      "cell_type": "code",
      "source": [
        ""
      ],
      "metadata": {
        "id": "0rPv1e8H_sU0"
      },
      "execution_count": null,
      "outputs": []
    },
    {
      "cell_type": "markdown",
      "source": [
        "#sur deux dimensions "
      ],
      "metadata": {
        "id": "Ay1oIZKdEDTu"
      }
    },
    {
      "cell_type": "code",
      "source": [
        "def f(w):\n",
        "    return 418.9829*D-w.sin(np.sqrt(w)).sum()\n",
        "#Calcul de la dérivée de la fonction f\n",
        "def grad(w):\n",
        "    return -sin(np.sqrt(w))-1/2*(np.sqrt(w))*cos(np.sqrt(w))\n",
        "\n",
        "\n",
        "\n",
        "#Application de la méthode des\n",
        "def gd_momentum(w, grad, alpha, beta=0.9, max_iter=10):\n",
        "    ws = np.zeros((1 + max_iter, w.shape[0]))\n",
        "    ws[0, :] = w\n",
        "    v = 0\n",
        "    for i in range(max_iter):\n",
        "        v = beta*v + (1-beta) * grad(w)\n",
        "        vc = v/(1+beta**(i+1))\n",
        "        w = w - alpha * vc\n",
        "        ws[i+1, :] = w\n",
        "    return ws\n"
      ],
      "metadata": {
        "id": "Zk-Ka1wY_sXs"
      },
      "execution_count": 38,
      "outputs": []
    },
    {
      "cell_type": "code",
      "source": [
        ""
      ],
      "metadata": {
        "id": "R3nzGSxSBpim"
      },
      "execution_count": null,
      "outputs": []
    },
    {
      "cell_type": "code",
      "source": [
        ""
      ],
      "metadata": {
        "id": "onEyK_RGBplO"
      },
      "execution_count": null,
      "outputs": []
    },
    {
      "cell_type": "code",
      "source": [
        "\n",
        "#Appel a la fonction qui calcul la la desecnte de gradient avec momentum\n",
        "w = np.array[20,20]\n",
        "gradient = grad(w)\n",
        "gradient_momentum = gd_momentum(w, grad, alpha= 0.02, beta=0.9, max_iter= 2000)\n",
        "\n",
        "x = np.linspace(-1.2, 1.2, 100)\n",
        "y = np.linspace(-1.2, 1.2, 100)\n",
        "X, Y = np.meshgrid(x, y)\n",
        "levels = [0.1,1,2,4,9, 16, 25, 36, 49, 64, 81, 100]\n",
        "Z = x**2 + Y**2\n",
        "c = plt.contour(X, Y, Z, levels)\n",
        "pass"
      ],
      "metadata": {
        "colab": {
          "base_uri": "https://localhost:8080/",
          "height": 235
        },
        "id": "5OiEdpE9Bpns",
        "outputId": "1e5fdef5-05cb-4e36-8b86-5221554b545d"
      },
      "execution_count": 47,
      "outputs": [
        {
          "output_type": "error",
          "ename": "TypeError",
          "evalue": "ignored",
          "traceback": [
            "\u001b[0;31m---------------------------------------------------------------------------\u001b[0m",
            "\u001b[0;31mTypeError\u001b[0m                                 Traceback (most recent call last)",
            "\u001b[0;32m<ipython-input-47-efae8511aa08>\u001b[0m in \u001b[0;36m<module>\u001b[0;34m()\u001b[0m\n\u001b[1;32m      1\u001b[0m \u001b[0;34m\u001b[0m\u001b[0m\n\u001b[1;32m      2\u001b[0m \u001b[0;31m#Appel a la fonction qui calcul la la desecnte de gradient avec momentum\u001b[0m\u001b[0;34m\u001b[0m\u001b[0;34m\u001b[0m\u001b[0;34m\u001b[0m\u001b[0m\n\u001b[0;32m----> 3\u001b[0;31m \u001b[0mw\u001b[0m \u001b[0;34m=\u001b[0m \u001b[0mnp\u001b[0m\u001b[0;34m.\u001b[0m\u001b[0marray\u001b[0m\u001b[0;34m[\u001b[0m\u001b[0;36m20\u001b[0m\u001b[0;34m,\u001b[0m\u001b[0;36m20\u001b[0m\u001b[0;34m]\u001b[0m\u001b[0;34m\u001b[0m\u001b[0;34m\u001b[0m\u001b[0m\n\u001b[0m\u001b[1;32m      4\u001b[0m \u001b[0mgradient\u001b[0m \u001b[0;34m=\u001b[0m \u001b[0mgrad\u001b[0m\u001b[0;34m(\u001b[0m\u001b[0mw\u001b[0m\u001b[0;34m)\u001b[0m\u001b[0;34m\u001b[0m\u001b[0;34m\u001b[0m\u001b[0m\n\u001b[1;32m      5\u001b[0m \u001b[0mgradient_momentum\u001b[0m \u001b[0;34m=\u001b[0m \u001b[0mgd_momentum\u001b[0m\u001b[0;34m(\u001b[0m\u001b[0mw\u001b[0m\u001b[0;34m,\u001b[0m \u001b[0mgrad\u001b[0m\u001b[0;34m,\u001b[0m \u001b[0malpha\u001b[0m\u001b[0;34m=\u001b[0m \u001b[0;36m0.02\u001b[0m\u001b[0;34m,\u001b[0m \u001b[0mbeta\u001b[0m\u001b[0;34m=\u001b[0m\u001b[0;36m0.9\u001b[0m\u001b[0;34m,\u001b[0m \u001b[0mmax_iter\u001b[0m\u001b[0;34m=\u001b[0m \u001b[0;36m2000\u001b[0m\u001b[0;34m)\u001b[0m\u001b[0;34m\u001b[0m\u001b[0;34m\u001b[0m\u001b[0m\n",
            "\u001b[0;31mTypeError\u001b[0m: 'builtin_function_or_method' object is not subscriptable"
          ]
        }
      ]
    },
    {
      "cell_type": "code",
      "source": [
        ""
      ],
      "metadata": {
        "id": "ymHHonecBRJz"
      },
      "execution_count": null,
      "outputs": []
    }
  ]
}